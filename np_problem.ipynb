{
 "cells": [
  {
   "cell_type": "markdown",
   "id": "7b7159c9-6d6f-4319-991b-52b22e6bb2bb",
   "metadata": {},
   "source": [
    "### <center><u><strong>Problem Statement</strong></u></center>\n",
    "\n",
    "Create a one-dimension array with alias s np and perform the following methods:\n",
    "<ol>\n",
    "    <li>np.Zeros()</li>\n",
    "    <li>np.once()</li>\n",
    "    <li>np.empty()</li>\n",
    "    <li>np.arange()</li>\n",
    "    <li>np.reshape()</li>\n",
    "    <li>np.linspace()</li>\n",
    "</ol>\n"
   ]
  },
  {
   "cell_type": "code",
   "execution_count": 1,
   "id": "cf143519-f7d9-4d4a-a53f-1dceff24520e",
   "metadata": {
    "tags": []
   },
   "outputs": [],
   "source": [
    "# import NumPy library\n",
    "import numpy as np"
   ]
  },
  {
   "cell_type": "code",
   "execution_count": 5,
   "id": "24a8481c-37d6-499c-b7af-1d334efe62e5",
   "metadata": {
    "tags": []
   },
   "outputs": [],
   "source": [
    "# First NumPy array\n",
    "first_numpy_array = np.array([1,2,3,4]) \n",
    "# Reular array: Mention array elements within square brackets"
   ]
  },
  {
   "cell_type": "code",
   "execution_count": 6,
   "id": "2c906def-cd58-4fa2-b83b-18552a5dde78",
   "metadata": {
    "tags": []
   },
   "outputs": [
    {
     "name": "stdout",
     "output_type": "stream",
     "text": [
      "[1 2 3 4]\n"
     ]
    }
   ],
   "source": [
    "# print first array\n",
    "print(first_numpy_array)"
   ]
  },
  {
   "cell_type": "code",
   "execution_count": 26,
   "id": "1dbe9249-6583-4501-9173-a809901f6daa",
   "metadata": {
    "tags": []
   },
   "outputs": [
    {
     "data": {
      "text/plain": [
       "array([[0., 0., 0.],\n",
       "       [0., 0., 0.],\n",
       "       [0., 0., 0.]])"
      ]
     },
     "execution_count": 26,
     "metadata": {},
     "output_type": "execute_result"
    }
   ],
   "source": [
    "# Array with zeros\n",
    "array_with_zeros = np.zeros((3,3))\n",
    "# Zeros array: Mentions shape of array within parentheses\n",
    "array_with_zeros"
   ]
  },
  {
   "cell_type": "code",
   "execution_count": 10,
   "id": "73e54716-7977-4b0a-8f7b-0fea7d92ef90",
   "metadata": {
    "tags": []
   },
   "outputs": [
    {
     "data": {
      "text/plain": [
       "array([[1., 1., 1.],\n",
       "       [1., 1., 1.],\n",
       "       [1., 1., 1.]])"
      ]
     },
     "execution_count": 10,
     "metadata": {},
     "output_type": "execute_result"
    }
   ],
   "source": [
    "# array with ones\n",
    "array_with_ones = np.ones((3,3))\n",
    "array_with_ones"
   ]
  },
  {
   "cell_type": "code",
   "execution_count": 13,
   "id": "2966b7c5-fca4-4e99-a3c4-965b44d855ed",
   "metadata": {
    "tags": []
   },
   "outputs": [
    {
     "data": {
      "text/plain": [
       "array([[3.56035924e-307, 2.78146116e-307, 2.22517741e-307],\n",
       "       [4.45040236e-307, 1.33508251e-307, 2.11396446e-307]])"
      ]
     },
     "execution_count": 13,
     "metadata": {},
     "output_type": "execute_result"
    }
   ],
   "source": [
    "# array with empty\n",
    "array_with_empty = np.empty((2,3))\n",
    "array_with_empty"
   ]
  },
  {
   "cell_type": "code",
   "execution_count": 14,
   "id": "0d7bc45b-4fb5-46be-a658-c9f0c531e2bc",
   "metadata": {
    "tags": []
   },
   "outputs": [],
   "source": [
    "# array with arange method \n",
    "np_arange = np.arange(12)"
   ]
  },
  {
   "cell_type": "code",
   "execution_count": 15,
   "id": "654244a9-a6fe-4824-aec4-b418d5b756e7",
   "metadata": {
    "tags": []
   },
   "outputs": [
    {
     "name": "stdout",
     "output_type": "stream",
     "text": [
      "[ 0  1  2  3  4  5  6  7  8  9 10 11]\n"
     ]
    }
   ],
   "source": [
    "# print array\n",
    "print(np_arange)"
   ]
  },
  {
   "cell_type": "code",
   "execution_count": 16,
   "id": "54de5f5b-9886-41fb-ada3-634f73d7d3d6",
   "metadata": {
    "tags": []
   },
   "outputs": [
    {
     "data": {
      "text/plain": [
       "array([[ 0,  1,  2,  3],\n",
       "       [ 4,  5,  6,  7],\n",
       "       [ 8,  9, 10, 11]])"
      ]
     },
     "execution_count": 16,
     "metadata": {},
     "output_type": "execute_result"
    }
   ],
   "source": [
    "# reshape method to change/ create array\n",
    "np_arange.reshape(3,4)"
   ]
  },
  {
   "cell_type": "code",
   "execution_count": 17,
   "id": "33aa03bb-5986-4a0e-b71e-977259d46ff0",
   "metadata": {
    "tags": []
   },
   "outputs": [],
   "source": [
    "# linspace for linearly (equal) spaced data elements\n",
    "np_linspce = np.linspace(1,6,5)\n",
    "\n",
    "# first element = 1\n",
    "# last element = 6\n",
    "# Total number of equidistant elements = 5"
   ]
  },
  {
   "cell_type": "code",
   "execution_count": 18,
   "id": "b5a67a06-5b84-42f7-a73d-f384c5aa901a",
   "metadata": {
    "tags": []
   },
   "outputs": [
    {
     "name": "stdout",
     "output_type": "stream",
     "text": [
      "[1.   2.25 3.5  4.75 6.  ]\n"
     ]
    }
   ],
   "source": [
    "# print linespaced array\n",
    "print(np_linspce)"
   ]
  },
  {
   "cell_type": "code",
   "execution_count": 19,
   "id": "9aa02469-524d-47bf-bda6-3217973fd5ff",
   "metadata": {
    "tags": []
   },
   "outputs": [],
   "source": [
    "# One dimensional array\n",
    "oneD_array = np.arange(15)"
   ]
  },
  {
   "cell_type": "code",
   "execution_count": 20,
   "id": "20b96ab6-b000-41b9-9049-0c1deb60a88b",
   "metadata": {
    "tags": []
   },
   "outputs": [
    {
     "name": "stdout",
     "output_type": "stream",
     "text": [
      "[ 0  1  2  3  4  5  6  7  8  9 10 11 12 13 14]\n"
     ]
    }
   ],
   "source": [
    "# print 1D array\n",
    "print(oneD_array)"
   ]
  },
  {
   "cell_type": "code",
   "execution_count": 21,
   "id": "2287984c-accc-408e-adb7-a53409e07002",
   "metadata": {
    "tags": []
   },
   "outputs": [],
   "source": [
    "# Two dimensional array\n",
    "TwoD_array = oneD_array.reshape(3,5)"
   ]
  },
  {
   "cell_type": "code",
   "execution_count": 22,
   "id": "6b9cd887-f529-4ccd-b96c-81cfd88469a0",
   "metadata": {
    "tags": []
   },
   "outputs": [
    {
     "name": "stdout",
     "output_type": "stream",
     "text": [
      "[[ 0  1  2  3  4]\n",
      " [ 5  6  7  8  9]\n",
      " [10 11 12 13 14]]\n"
     ]
    }
   ],
   "source": [
    "# print 2D array\n",
    "print(TwoD_array)"
   ]
  },
  {
   "cell_type": "code",
   "execution_count": 23,
   "id": "47102426-758b-4e2d-912e-f356b83f0007",
   "metadata": {
    "tags": []
   },
   "outputs": [],
   "source": [
    "# Three dimensional array\n",
    "ThreeD_array = np.arange(27).reshape(3,3,3)"
   ]
  },
  {
   "cell_type": "code",
   "execution_count": 24,
   "id": "407b6bd1-17e5-4c33-83c4-0677d49c932e",
   "metadata": {
    "tags": []
   },
   "outputs": [
    {
     "name": "stdout",
     "output_type": "stream",
     "text": [
      "[[[ 0  1  2]\n",
      "  [ 3  4  5]\n",
      "  [ 6  7  8]]\n",
      "\n",
      " [[ 9 10 11]\n",
      "  [12 13 14]\n",
      "  [15 16 17]]\n",
      "\n",
      " [[18 19 20]\n",
      "  [21 22 23]\n",
      "  [24 25 26]]]\n"
     ]
    }
   ],
   "source": [
    "# print 3D array\n",
    "print(ThreeD_array)"
   ]
  },
  {
   "cell_type": "code",
   "execution_count": null,
   "id": "03f70790-7eb7-467f-821d-3a5ecd2906a2",
   "metadata": {},
   "outputs": [],
   "source": []
  }
 ],
 "metadata": {
  "kernelspec": {
   "display_name": "Python 3 (ipykernel)",
   "language": "python",
   "name": "python3"
  },
  "language_info": {
   "codemirror_mode": {
    "name": "ipython",
    "version": 3
   },
   "file_extension": ".py",
   "mimetype": "text/x-python",
   "name": "python",
   "nbconvert_exporter": "python",
   "pygments_lexer": "ipython3",
   "version": "3.11.5"
  }
 },
 "nbformat": 4,
 "nbformat_minor": 5
}
