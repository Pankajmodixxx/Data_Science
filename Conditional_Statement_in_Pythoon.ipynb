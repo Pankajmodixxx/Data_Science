{
 "cells": [
  {
   "cell_type": "code",
   "execution_count": 1,
   "id": "04a98892-9f9b-4796-a6ae-ad6a15b27748",
   "metadata": {
    "tags": []
   },
   "outputs": [],
   "source": [
    "import numpy as np"
   ]
  },
  {
   "cell_type": "code",
   "execution_count": 2,
   "id": "f1478ca2-86d5-46d8-b322-5406b0fd81f6",
   "metadata": {
    "tags": []
   },
   "outputs": [],
   "source": [
    "x = np.array([i for i in range(10)])"
   ]
  },
  {
   "cell_type": "code",
   "execution_count": 3,
   "id": "9bca2959-3027-46d5-a563-88b286d54611",
   "metadata": {
    "tags": []
   },
   "outputs": [
    {
     "data": {
      "text/plain": [
       "array([0, 1, 2, 3, 4, 5, 6, 7, 8, 9])"
      ]
     },
     "execution_count": 3,
     "metadata": {},
     "output_type": "execute_result"
    }
   ],
   "source": [
    "x"
   ]
  },
  {
   "cell_type": "code",
   "execution_count": 4,
   "id": "2ad9bb13-6d97-4159-8be9-bac561230253",
   "metadata": {
    "jupyter": {
     "source_hidden": true
    },
    "tags": []
   },
   "outputs": [
    {
     "data": {
      "text/plain": [
       "array(['Even', 'Odd', 'Even', 'Odd', 'Even', 'Odd', 'Even', 'Odd', 'Even',\n",
       "       'Odd'], dtype='<U4')"
      ]
     },
     "execution_count": 4,
     "metadata": {},
     "output_type": "execute_result"
    }
   ],
   "source": [
    "# even or odd\n",
    "np.where(x%2==0, 'Even', 'Odd')\n"
   ]
  },
  {
   "cell_type": "code",
   "execution_count": 5,
   "id": "ca8bc26b-c6c8-4014-b02c-736dbca5ffea",
   "metadata": {
    "tags": []
   },
   "outputs": [],
   "source": [
    "# conditon list or choise list\n",
    "condlist = [x<5, x>5]\n",
    "choiselist = [x**2, x**3]"
   ]
  },
  {
   "cell_type": "code",
   "execution_count": 6,
   "id": "9679f60b-05c2-4471-8393-b3f3846f384b",
   "metadata": {
    "tags": []
   },
   "outputs": [
    {
     "data": {
      "text/plain": [
       "array([  0,   1,   4,   9,  16,   5, 216, 343, 512, 729])"
      ]
     },
     "execution_count": 6,
     "metadata": {},
     "output_type": "execute_result"
    }
   ],
   "source": [
    "np.select(condlist,choiselist, default=x)"
   ]
  },
  {
   "cell_type": "markdown",
   "id": "7e278772-c72f-4e7e-94fd-6402e4152152",
   "metadata": {},
   "source": [
    "### Common Mathematical and Statistical Functions in NumPy"
   ]
  },
  {
   "cell_type": "code",
   "execution_count": 8,
   "id": "044a19ab-5e27-4412-a45c-820479138ed9",
   "metadata": {
    "tags": []
   },
   "outputs": [],
   "source": [
    "import numpy as np"
   ]
  },
  {
   "cell_type": "code",
   "execution_count": 9,
   "id": "ba8517f5-8603-4a07-8e46-1e3da4d36f7d",
   "metadata": {
    "tags": []
   },
   "outputs": [],
   "source": [
    "arr = np.array([[4,3,2], [10,1,0], [5,8,24]])"
   ]
  },
  {
   "cell_type": "code",
   "execution_count": 10,
   "id": "3a8e4bcb-25ab-4333-bad9-de3f96be0bee",
   "metadata": {
    "tags": []
   },
   "outputs": [
    {
     "data": {
      "text/plain": [
       "array([[ 4,  3,  2],\n",
       "       [10,  1,  0],\n",
       "       [ 5,  8, 24]])"
      ]
     },
     "execution_count": 10,
     "metadata": {},
     "output_type": "execute_result"
    }
   ],
   "source": [
    "arr"
   ]
  },
  {
   "cell_type": "code",
   "execution_count": 12,
   "id": "0ce6bae5-cb32-4373-bcc9-081cccb16460",
   "metadata": {
    "tags": []
   },
   "outputs": [
    {
     "data": {
      "text/plain": [
       "0"
      ]
     },
     "execution_count": 12,
     "metadata": {},
     "output_type": "execute_result"
    }
   ],
   "source": [
    "# passing the minimum value in the array\n",
    "np.amin(arr)"
   ]
  },
  {
   "cell_type": "code",
   "execution_count": 14,
   "id": "3dc7224e-1174-42e3-b0a7-e527e951ea81",
   "metadata": {
    "tags": []
   },
   "outputs": [
    {
     "data": {
      "text/plain": [
       "array([4, 1, 0])"
      ]
     },
     "execution_count": 14,
     "metadata": {},
     "output_type": "execute_result"
    }
   ],
   "source": [
    "# axis 0 will give vertical and axis 1 will give horizontal\n",
    "np.amin(arr, axis=0)"
   ]
  },
  {
   "cell_type": "code",
   "execution_count": 15,
   "id": "34667708-93c5-4a2f-a31a-b65f3ca2b42e",
   "metadata": {
    "tags": []
   },
   "outputs": [
    {
     "data": {
      "text/plain": [
       "array([2, 0, 5])"
      ]
     },
     "execution_count": 15,
     "metadata": {},
     "output_type": "execute_result"
    }
   ],
   "source": [
    "np.amin(arr, axis=1)"
   ]
  },
  {
   "cell_type": "code",
   "execution_count": 16,
   "id": "ec9414a1-fc3a-4466-a5d6-2a3899006308",
   "metadata": {
    "tags": []
   },
   "outputs": [
    {
     "data": {
      "text/plain": [
       "24"
      ]
     },
     "execution_count": 16,
     "metadata": {},
     "output_type": "execute_result"
    }
   ],
   "source": [
    "# we have a max function will give maximum value in the array\n",
    "np.max(arr)"
   ]
  },
  {
   "cell_type": "code",
   "execution_count": 17,
   "id": "387e885f-86b7-4626-9410-f78dd69f71c4",
   "metadata": {
    "tags": []
   },
   "outputs": [
    {
     "data": {
      "text/plain": [
       "array([10,  8, 24])"
      ]
     },
     "execution_count": 17,
     "metadata": {},
     "output_type": "execute_result"
    }
   ],
   "source": [
    "# amax for axis max\n",
    "np.amax(arr, axis=0)  # will give vertical axis"
   ]
  },
  {
   "cell_type": "code",
   "execution_count": 18,
   "id": "9575af7a-7d9d-440e-99aa-ff85e62ac5a2",
   "metadata": {
    "tags": []
   },
   "outputs": [
    {
     "data": {
      "text/plain": [
       "array([ 4, 10, 24])"
      ]
     },
     "execution_count": 18,
     "metadata": {},
     "output_type": "execute_result"
    }
   ],
   "source": [
    "# amax for axis max\n",
    "np.amax(arr, axis=1)  # will give Horizontal axis"
   ]
  },
  {
   "cell_type": "code",
   "execution_count": 19,
   "id": "cfdabd29-00ad-43b6-b196-f08d4663af5f",
   "metadata": {
    "tags": []
   },
   "outputs": [
    {
     "data": {
      "text/plain": [
       "4.0"
      ]
     },
     "execution_count": 19,
     "metadata": {},
     "output_type": "execute_result"
    }
   ],
   "source": [
    "# will give median value\n",
    "np.median(arr)"
   ]
  },
  {
   "cell_type": "code",
   "execution_count": 20,
   "id": "37a51465-5bb9-40f8-abbe-2c9bfee8aa49",
   "metadata": {
    "tags": []
   },
   "outputs": [
    {
     "data": {
      "text/plain": [
       "6.333333333333333"
      ]
     },
     "execution_count": 20,
     "metadata": {},
     "output_type": "execute_result"
    }
   ],
   "source": [
    "# will give mean value\n",
    "np.mean(arr)"
   ]
  },
  {
   "cell_type": "code",
   "execution_count": 21,
   "id": "abcaeeef-357f-47e1-97ba-d8e56b4e926a",
   "metadata": {
    "tags": []
   },
   "outputs": [
    {
     "data": {
      "text/plain": [
       "6.944222218666553"
      ]
     },
     "execution_count": 21,
     "metadata": {},
     "output_type": "execute_result"
    }
   ],
   "source": [
    "# std will give Stander deviation\n",
    "np.std(arr)"
   ]
  },
  {
   "cell_type": "code",
   "execution_count": 22,
   "id": "19a4693d-546d-4d94-8c3c-2925ae3ecbff",
   "metadata": {
    "tags": []
   },
   "outputs": [
    {
     "data": {
      "text/plain": [
       "48.22222222222222"
      ]
     },
     "execution_count": 22,
     "metadata": {},
     "output_type": "execute_result"
    }
   ],
   "source": [
    "# var will give Varience value\n",
    "np.var(arr)"
   ]
  },
  {
   "cell_type": "code",
   "execution_count": 24,
   "id": "749a3573-fc34-4979-a1ec-fa52ad896ce9",
   "metadata": {
    "tags": []
   },
   "outputs": [
    {
     "data": {
      "text/plain": [
       "4.0"
      ]
     },
     "execution_count": 24,
     "metadata": {},
     "output_type": "execute_result"
    }
   ],
   "source": [
    "# we can also look at percentail value \n",
    "# we need to know the value 48. percentail\n",
    "np.percentile(arr, 50)"
   ]
  },
  {
   "cell_type": "code",
   "execution_count": 25,
   "id": "3cb65945-00d2-406c-988a-4d15f2e6ea76",
   "metadata": {
    "tags": []
   },
   "outputs": [],
   "source": [
    "# give numpy in degree\n",
    "deg = np.array([0, 30, 45, 60, 90])"
   ]
  },
  {
   "cell_type": "code",
   "execution_count": 26,
   "id": "989fa7c5-627b-4b01-aef7-864fcc1062c8",
   "metadata": {
    "tags": []
   },
   "outputs": [
    {
     "data": {
      "text/plain": [
       "array([0.        , 0.5       , 0.70710678, 0.8660254 , 1.        ])"
      ]
     },
     "execution_count": 26,
     "metadata": {},
     "output_type": "execute_result"
    }
   ],
   "source": [
    "np.sin(deg*np.pi/180)"
   ]
  },
  {
   "cell_type": "code",
   "execution_count": 27,
   "id": "434154b2-917e-4b2d-9063-b5c55b60437a",
   "metadata": {
    "tags": []
   },
   "outputs": [
    {
     "data": {
      "text/plain": [
       "array([1.00000000e+00, 8.66025404e-01, 7.07106781e-01, 5.00000000e-01,\n",
       "       6.12323400e-17])"
      ]
     },
     "execution_count": 27,
     "metadata": {},
     "output_type": "execute_result"
    }
   ],
   "source": [
    "# we can also use cosin or tan method\n",
    "np.cos(deg*np.pi/180)"
   ]
  },
  {
   "cell_type": "code",
   "execution_count": 28,
   "id": "443d6532-92b7-4a4a-a895-0f346357615c",
   "metadata": {
    "tags": []
   },
   "outputs": [
    {
     "data": {
      "text/plain": [
       "array([0.00000000e+00, 5.77350269e-01, 1.00000000e+00, 1.73205081e+00,\n",
       "       1.63312394e+16])"
      ]
     },
     "execution_count": 28,
     "metadata": {},
     "output_type": "execute_result"
    }
   ],
   "source": [
    "np.tan(deg*np.pi/180)"
   ]
  },
  {
   "cell_type": "code",
   "execution_count": 29,
   "id": "71ecac28-5241-48b7-a6e6-95d6dd3d75d6",
   "metadata": {
    "tags": []
   },
   "outputs": [
    {
     "data": {
      "text/plain": [
       "'\\narcsin\\narccos\\narctan\\n'"
      ]
     },
     "execution_count": 29,
     "metadata": {},
     "output_type": "execute_result"
    }
   ],
   "source": [
    "# to find the inverce trigonometric function by the help of \n",
    "'''\n",
    "arcsin\n",
    "arccos\n",
    "arctan\n",
    "'''\n"
   ]
  },
  {
   "cell_type": "code",
   "execution_count": 30,
   "id": "4169205e-c0f4-40ea-8ab8-16768781d3e4",
   "metadata": {
    "tags": []
   },
   "outputs": [],
   "source": [
    "arr = np.array([0.1, 0.8, -2.2, -9.87])"
   ]
  },
  {
   "cell_type": "code",
   "execution_count": 31,
   "id": "24389380-6c74-4ef0-85c6-a1deeb3a8198",
   "metadata": {
    "tags": []
   },
   "outputs": [
    {
     "data": {
      "text/plain": [
       "array([  0.,   0.,  -3., -10.])"
      ]
     },
     "execution_count": 31,
     "metadata": {},
     "output_type": "execute_result"
    }
   ],
   "source": [
    "# floor will give floor value\n",
    "np.floor(arr)"
   ]
  },
  {
   "cell_type": "code",
   "execution_count": 32,
   "id": "24f72d9d-b4ed-4890-b849-ab7cbdf40ddb",
   "metadata": {
    "tags": []
   },
   "outputs": [
    {
     "data": {
      "text/plain": [
       "array([ 1.,  1., -2., -9.])"
      ]
     },
     "execution_count": 32,
     "metadata": {},
     "output_type": "execute_result"
    }
   ],
   "source": [
    "# ceil value\n",
    "np.ceil(arr)"
   ]
  },
  {
   "cell_type": "code",
   "execution_count": null,
   "id": "e2b28954-15df-4982-9d67-e6221aa744d4",
   "metadata": {},
   "outputs": [],
   "source": []
  }
 ],
 "metadata": {
  "kernelspec": {
   "display_name": "Python 3 (ipykernel)",
   "language": "python",
   "name": "python3"
  },
  "language_info": {
   "codemirror_mode": {
    "name": "ipython",
    "version": 3
   },
   "file_extension": ".py",
   "mimetype": "text/x-python",
   "name": "python",
   "nbconvert_exporter": "python",
   "pygments_lexer": "ipython3",
   "version": "3.11.5"
  }
 },
 "nbformat": 4,
 "nbformat_minor": 5
}
