{
 "cells": [
  {
   "cell_type": "code",
   "execution_count": 1,
   "id": "31e9dd87-159b-4b29-aa58-75e2b6c3fbe3",
   "metadata": {},
   "outputs": [],
   "source": [
    "import pandas as pd"
   ]
  },
  {
   "cell_type": "code",
   "execution_count": 2,
   "id": "d3d23882-ab3c-4ecd-8362-8bfe0ad0573a",
   "metadata": {},
   "outputs": [],
   "source": [
    "l = [x for x in range(10)]"
   ]
  },
  {
   "cell_type": "code",
   "execution_count": 3,
   "id": "5bb37b53-d87b-47f9-9b07-4da5d8e0eee5",
   "metadata": {},
   "outputs": [],
   "source": [
    "s = pd.Series(l)"
   ]
  },
  {
   "cell_type": "code",
   "execution_count": 4,
   "id": "ffb90a3d-c577-4462-b7fe-fb1c0cdfcc6b",
   "metadata": {},
   "outputs": [
    {
     "data": {
      "text/plain": [
       "0    0\n",
       "1    1\n",
       "2    2\n",
       "3    3\n",
       "4    4\n",
       "5    5\n",
       "6    6\n",
       "7    7\n",
       "8    8\n",
       "9    9\n",
       "dtype: int64"
      ]
     },
     "execution_count": 4,
     "metadata": {},
     "output_type": "execute_result"
    }
   ],
   "source": [
    "s"
   ]
  },
  {
   "cell_type": "code",
   "execution_count": 5,
   "id": "d36265f0-b005-49a7-8c5d-8c69b99c278b",
   "metadata": {},
   "outputs": [
    {
     "data": {
      "text/plain": [
       "5"
      ]
     },
     "execution_count": 5,
     "metadata": {},
     "output_type": "execute_result"
    }
   ],
   "source": [
    "s[5]"
   ]
  },
  {
   "cell_type": "code",
   "execution_count": 9,
   "id": "8f333657-f2b1-4774-8d25-29c623d8b148",
   "metadata": {},
   "outputs": [],
   "source": [
    "# we can set the index\n",
    "s = pd.Series(l, index=['a','b','c','d','e','f','g','h','i','j'])"
   ]
  },
  {
   "cell_type": "code",
   "execution_count": 10,
   "id": "c78887ff-049d-480e-807e-e65f81c9d325",
   "metadata": {},
   "outputs": [
    {
     "data": {
      "text/plain": [
       "a    0\n",
       "b    1\n",
       "c    2\n",
       "d    3\n",
       "e    4\n",
       "f    5\n",
       "g    6\n",
       "h    7\n",
       "i    8\n",
       "j    9\n",
       "dtype: int64"
      ]
     },
     "execution_count": 10,
     "metadata": {},
     "output_type": "execute_result"
    }
   ],
   "source": [
    "s"
   ]
  },
  {
   "cell_type": "code",
   "execution_count": 12,
   "id": "d876474d-9329-43bf-844e-28d134ca5fdf",
   "metadata": {},
   "outputs": [
    {
     "data": {
      "text/plain": [
       "4"
      ]
     },
     "execution_count": 12,
     "metadata": {},
     "output_type": "execute_result"
    }
   ],
   "source": [
    "# acces with index\n",
    "s['e']"
   ]
  },
  {
   "cell_type": "code",
   "execution_count": 13,
   "id": "bca44769-9c14-41d2-acd7-05745a34a547",
   "metadata": {},
   "outputs": [],
   "source": [
    "# make a series and make dublicate index \n",
    "s = pd.Series(l, index=['a','b','c','d','e','f','g','h','i','i'])"
   ]
  },
  {
   "cell_type": "code",
   "execution_count": 14,
   "id": "f499c342-9112-4a7f-ba08-fe3bb1c05da2",
   "metadata": {},
   "outputs": [
    {
     "data": {
      "text/plain": [
       "i    8\n",
       "i    9\n",
       "dtype: int64"
      ]
     },
     "execution_count": 14,
     "metadata": {},
     "output_type": "execute_result"
    }
   ],
   "source": [
    "s['i']"
   ]
  },
  {
   "cell_type": "code",
   "execution_count": 15,
   "id": "bc7a0d0b-805b-47c4-9282-4d74c75a25b0",
   "metadata": {},
   "outputs": [],
   "source": [
    "# let's create a dicsnary\n",
    "data = {'a':1, 'b':2, 'c':3, 'd':4, 'e':5}"
   ]
  },
  {
   "cell_type": "code",
   "execution_count": 16,
   "id": "5be616c3-8439-4b92-bcf4-1f212eb49e4e",
   "metadata": {},
   "outputs": [],
   "source": [
    "s = pd.Series(data)"
   ]
  },
  {
   "cell_type": "code",
   "execution_count": 17,
   "id": "fbdcd872-b681-4d76-82b4-74bad4bae123",
   "metadata": {},
   "outputs": [
    {
     "data": {
      "text/plain": [
       "a    1\n",
       "b    2\n",
       "c    3\n",
       "d    4\n",
       "e    5\n",
       "dtype: int64"
      ]
     },
     "execution_count": 17,
     "metadata": {},
     "output_type": "execute_result"
    }
   ],
   "source": [
    "s"
   ]
  },
  {
   "cell_type": "code",
   "execution_count": 19,
   "id": "ca90c6b4-0eba-48e1-a1a3-42a8d7898969",
   "metadata": {},
   "outputs": [],
   "source": [
    "# access data\n",
    "s = pd.Series(data, index=['a', 'b'])"
   ]
  },
  {
   "cell_type": "code",
   "execution_count": 20,
   "id": "9d02bf58-b1c9-43fc-94f2-e94460951609",
   "metadata": {},
   "outputs": [
    {
     "data": {
      "text/plain": [
       "a    1\n",
       "b    2\n",
       "dtype: int64"
      ]
     },
     "execution_count": 20,
     "metadata": {},
     "output_type": "execute_result"
    }
   ],
   "source": [
    "s"
   ]
  },
  {
   "cell_type": "code",
   "execution_count": 23,
   "id": "03c0ef48-9e53-4d26-93f9-330415198acf",
   "metadata": {},
   "outputs": [],
   "source": [
    "s = pd.Series(data, index=['a', 'b','c','d','e','f'])\n",
    "# NaN is say not present the data"
   ]
  },
  {
   "cell_type": "code",
   "execution_count": 24,
   "id": "e57d7e8d-c597-4a84-889f-a2a40c35acf4",
   "metadata": {},
   "outputs": [
    {
     "data": {
      "text/plain": [
       "a    1.0\n",
       "b    2.0\n",
       "c    3.0\n",
       "d    4.0\n",
       "e    5.0\n",
       "f    NaN\n",
       "dtype: float64"
      ]
     },
     "execution_count": 24,
     "metadata": {},
     "output_type": "execute_result"
    }
   ],
   "source": [
    "s"
   ]
  },
  {
   "cell_type": "code",
   "execution_count": null,
   "id": "5e357101-b651-4814-af5d-b74ed554c71a",
   "metadata": {},
   "outputs": [],
   "source": []
  }
 ],
 "metadata": {
  "kernelspec": {
   "display_name": "Python 3 (ipykernel)",
   "language": "python",
   "name": "python3"
  },
  "language_info": {
   "codemirror_mode": {
    "name": "ipython",
    "version": 3
   },
   "file_extension": ".py",
   "mimetype": "text/x-python",
   "name": "python",
   "nbconvert_exporter": "python",
   "pygments_lexer": "ipython3",
   "version": "3.11.5"
  }
 },
 "nbformat": 4,
 "nbformat_minor": 5
}
