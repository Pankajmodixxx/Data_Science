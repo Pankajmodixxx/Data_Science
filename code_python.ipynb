{
 "cells": [
  {
   "cell_type": "code",
   "execution_count": 1,
   "id": "1952db73-eaae-4677-8c4f-92b76db1caf7",
   "metadata": {
    "tags": []
   },
   "outputs": [],
   "source": [
    "import math"
   ]
  },
  {
   "cell_type": "code",
   "execution_count": 2,
   "id": "32902a0b-041c-4104-b1d5-9d4286cf6ba8",
   "metadata": {
    "tags": []
   },
   "outputs": [
    {
     "name": "stdout",
     "output_type": "stream",
     "text": [
      "4.0\n"
     ]
    }
   ],
   "source": [
    "a = 16\n",
    "print(math.sqrt(a))"
   ]
  },
  {
   "cell_type": "code",
   "execution_count": 4,
   "id": "8638bd53-8251-49cf-a544-323de590fc9b",
   "metadata": {
    "tags": []
   },
   "outputs": [],
   "source": [
    "from math import sqrt, sin"
   ]
  },
  {
   "cell_type": "code",
   "execution_count": 5,
   "id": "77639111-06c1-4718-a5bb-45ca89ff15f9",
   "metadata": {
    "tags": []
   },
   "outputs": [
    {
     "name": "stdout",
     "output_type": "stream",
     "text": [
      "4.0\n",
      "0.0015926529164868282\n"
     ]
    }
   ],
   "source": [
    "a = 16\n",
    "b = 3.14\n",
    "print(math.sqrt(a))\n",
    "print(math.sin(b))"
   ]
  },
  {
   "cell_type": "code",
   "execution_count": 15,
   "id": "12df9a72-eb36-4d41-8adc-06f2b1c12d73",
   "metadata": {
    "tags": []
   },
   "outputs": [
    {
     "name": "stdout",
     "output_type": "stream",
     "text": [
      "5.0\n",
      "0.9916648104524686\n"
     ]
    }
   ],
   "source": [
    "a = 25\n",
    "b = 1.7\n",
    "print(math.sqrt(a))\n",
    "print(math.sin(b))"
   ]
  },
  {
   "cell_type": "code",
   "execution_count": 22,
   "id": "084657e6-1ec0-490f-9702-84fffca1a255",
   "metadata": {
    "tags": []
   },
   "outputs": [],
   "source": [
    "import numpy as np\n",
    "# Numbers for which square root wil be calculated\n",
    "np_sqrt = np.sqrt([2,4,9,16])"
   ]
  },
  {
   "cell_type": "code",
   "execution_count": 24,
   "id": "ccc3c580-8282-4508-9c01-a38d3391d5ff",
   "metadata": {
    "tags": []
   },
   "outputs": [
    {
     "data": {
      "text/plain": [
       "array([1.41421356, 2.        , 3.        , 4.        ])"
      ]
     },
     "execution_count": 24,
     "metadata": {},
     "output_type": "execute_result"
    }
   ],
   "source": [
    "# Square root values\n",
    "np_sqrt"
   ]
  },
  {
   "cell_type": "markdown",
   "id": "3939997e-37f0-4df1-94e5-e197b6cc8504",
   "metadata": {},
   "source": [
    " ### Trigonometric Functions"
   ]
  },
  {
   "cell_type": "code",
   "execution_count": 25,
   "id": "0388a9c6-e6a4-4672-b4b0-853445c09e96",
   "metadata": {
    "tags": []
   },
   "outputs": [
    {
     "data": {
      "text/plain": [
       "1.0"
      ]
     },
     "execution_count": 25,
     "metadata": {},
     "output_type": "execute_result"
    }
   ],
   "source": [
    "# import pi*\n",
    "from numpy import pi\n",
    "np.cos(0)"
   ]
  },
  {
   "cell_type": "code",
   "execution_count": 27,
   "id": "7c4c2097-46c9-482f-92e2-7890daae269c",
   "metadata": {
    "tags": []
   },
   "outputs": [
    {
     "data": {
      "text/plain": [
       "1.0"
      ]
     },
     "execution_count": 27,
     "metadata": {},
     "output_type": "execute_result"
    }
   ],
   "source": [
    "np.sin(pi/2)"
   ]
  },
  {
   "cell_type": "code",
   "execution_count": 28,
   "id": "196f8233-26c6-43d3-9c04-fd4f1ab1b98a",
   "metadata": {
    "tags": []
   },
   "outputs": [
    {
     "data": {
      "text/plain": [
       "-1.0"
      ]
     },
     "execution_count": 28,
     "metadata": {},
     "output_type": "execute_result"
    }
   ],
   "source": [
    "np.cos(pi)"
   ]
  },
  {
   "cell_type": "code",
   "execution_count": 29,
   "id": "09358f01-0e2a-4f19-af77-35606db44ee3",
   "metadata": {
    "tags": []
   },
   "outputs": [
    {
     "data": {
      "text/plain": [
       "array([ 1.,  1.,  2.,  3.,  1., -1., -2.])"
      ]
     },
     "execution_count": 29,
     "metadata": {},
     "output_type": "execute_result"
    }
   ],
   "source": [
    "# Return the floor of the input element wise\n",
    "np.floor([1.5, 1.6, 2.7, 3.3, 1.1, -0.3, -1.4])"
   ]
  },
  {
   "cell_type": "code",
   "execution_count": 30,
   "id": "dbe0ab28-769d-4869-a772-c83b72da1f52",
   "metadata": {
    "tags": []
   },
   "outputs": [
    {
     "data": {
      "text/plain": [
       "array([  1.        ,   2.71828183, 148.4131591 ])"
      ]
     },
     "execution_count": 30,
     "metadata": {},
     "output_type": "execute_result"
    }
   ],
   "source": [
    "# Exponential functions for complex mathematical calculations\n",
    "np.exp([0, 1, 5])"
   ]
  },
  {
   "cell_type": "markdown",
   "id": "e3a59db9-d249-41a9-b70d-0d6cc28ad7b3",
   "metadata": {},
   "source": [
    "### Shape Manipulation"
   ]
  },
  {
   "cell_type": "code",
   "execution_count": 32,
   "id": "e6563104-c77f-444c-bf1c-2be1bf137682",
   "metadata": {
    "tags": []
   },
   "outputs": [],
   "source": [
    "new_cyclist_trials = np.array([[10, 15,17,26,13,19], [12, 11, 21, 24, 14, 23]])"
   ]
  },
  {
   "cell_type": "code",
   "execution_count": 33,
   "id": "7d8f544d-f0a9-43d5-a428-7eea8a5c1dc7",
   "metadata": {
    "tags": []
   },
   "outputs": [
    {
     "data": {
      "text/plain": [
       "array([10, 15, 17, 26, 13, 19, 12, 11, 21, 24, 14, 23])"
      ]
     },
     "execution_count": 33,
     "metadata": {},
     "output_type": "execute_result"
    }
   ],
   "source": [
    "# Flattens the dataset\n",
    "new_cyclist_trials.ravel()"
   ]
  },
  {
   "cell_type": "code",
   "execution_count": 37,
   "id": "ad006feb-51d1-416d-a34e-4b4fc595c016",
   "metadata": {
    "tags": []
   },
   "outputs": [
    {
     "data": {
      "text/plain": [
       "array([[10, 15, 17, 26],\n",
       "       [13, 19, 12, 11],\n",
       "       [21, 24, 14, 23]])"
      ]
     },
     "execution_count": 37,
     "metadata": {},
     "output_type": "execute_result"
    }
   ],
   "source": [
    "# Changes or reshapes the dataset to 3 rows and 4 columns\n",
    "new_cyclist_trials.reshape(3,4)"
   ]
  },
  {
   "cell_type": "code",
   "execution_count": 38,
   "id": "64ce6d86-6573-4592-9270-ef6056f0a987",
   "metadata": {
    "tags": []
   },
   "outputs": [],
   "source": [
    "# resizes again to 2 rows and 6 columns\n",
    "new_cyclist_trials.resize(2,6)"
   ]
  },
  {
   "cell_type": "code",
   "execution_count": 39,
   "id": "88a734e3-a071-438a-ac16-c1f24bec78cf",
   "metadata": {
    "tags": []
   },
   "outputs": [
    {
     "data": {
      "text/plain": [
       "array([[10, 15, 17, 26, 13, 19],\n",
       "       [12, 11, 21, 24, 14, 23]])"
      ]
     },
     "execution_count": 39,
     "metadata": {},
     "output_type": "execute_result"
    }
   ],
   "source": [
    "new_cyclist_trials"
   ]
  },
  {
   "cell_type": "code",
   "execution_count": 48,
   "id": "87ae8ead-47b0-4f9f-92f8-24ec38dd7fd8",
   "metadata": {
    "tags": []
   },
   "outputs": [
    {
     "data": {
      "text/plain": [
       "[array([[10, 15, 17],\n",
       "        [12, 11, 21]]),\n",
       " array([[26, 13, 19],\n",
       "        [24, 14, 23]])]"
      ]
     },
     "execution_count": 48,
     "metadata": {},
     "output_type": "execute_result"
    }
   ],
   "source": [
    "# Splits the array into two\n",
    "np.hsplit(new_cyclist_trials, 2)"
   ]
  },
  {
   "cell_type": "code",
   "execution_count": 49,
   "id": "c5ec0b71-4508-4f05-ad9b-4a28ca1231f5",
   "metadata": {
    "tags": []
   },
   "outputs": [],
   "source": [
    "new_cyclist_1 = np.array([10, 15, 17,26,13,19])"
   ]
  },
  {
   "cell_type": "code",
   "execution_count": 51,
   "id": "026ac489-9c82-4f49-8b31-7de08bc9d891",
   "metadata": {
    "tags": []
   },
   "outputs": [],
   "source": [
    "new_cyclist_2 = np.array([12, 11, 21, 24, 14, 13])"
   ]
  },
  {
   "cell_type": "code",
   "execution_count": 52,
   "id": "badb789c-99b8-4bbc-b85f-0b03a61558fe",
   "metadata": {
    "tags": []
   },
   "outputs": [
    {
     "data": {
      "text/plain": [
       "array([10, 15, 17, 26, 13, 19, 12, 11, 21, 24, 14, 13])"
      ]
     },
     "execution_count": 52,
     "metadata": {},
     "output_type": "execute_result"
    }
   ],
   "source": [
    "# Stacks the arrays together\n",
    "np.hstack((new_cyclist_1, new_cyclist_2))"
   ]
  },
  {
   "cell_type": "code",
   "execution_count": 1,
   "id": "7a212b46-20c1-48e0-a67f-b8c367dcd58e",
   "metadata": {},
   "outputs": [],
   "source": [
    "import numpy as np"
   ]
  },
  {
   "cell_type": "code",
   "execution_count": 2,
   "id": "87a2bb82-4753-4b62-89ba-c0efd76dc164",
   "metadata": {
    "tags": []
   },
   "outputs": [
    {
     "data": {
      "text/plain": [
       "array(24)"
      ]
     },
     "execution_count": 2,
     "metadata": {},
     "output_type": "execute_result"
    }
   ],
   "source": [
    "np.array(24)"
   ]
  },
  {
   "cell_type": "code",
   "execution_count": 4,
   "id": "50d5c995-9d95-423e-8c54-76a43f0519c8",
   "metadata": {
    "tags": []
   },
   "outputs": [
    {
     "data": {
      "text/plain": [
       "array([1, 2, 3, 4])"
      ]
     },
     "execution_count": 4,
     "metadata": {},
     "output_type": "execute_result"
    }
   ],
   "source": [
    "# oneD array\n",
    "np.array([1,2,3,4])"
   ]
  },
  {
   "cell_type": "code",
   "execution_count": 5,
   "id": "13672ee9-a63a-4eeb-a5fa-828c2eebaddc",
   "metadata": {
    "tags": []
   },
   "outputs": [
    {
     "data": {
      "text/plain": [
       "array([[1, 1, 1],\n",
       "       [2, 2, 2]])"
      ]
     },
     "execution_count": 5,
     "metadata": {},
     "output_type": "execute_result"
    }
   ],
   "source": [
    "# twoD array\n",
    "np.array([[1,1,1], [2,2,2]])"
   ]
  },
  {
   "cell_type": "code",
   "execution_count": 6,
   "id": "8ade0239-fb73-448b-a746-32e415afae3c",
   "metadata": {
    "tags": []
   },
   "outputs": [
    {
     "data": {
      "text/plain": [
       "array([[[1, 1, 1, 1],\n",
       "        [2, 2, 2, 2]],\n",
       "\n",
       "       [[3, 3, 3, 3],\n",
       "        [4, 4, 4, 4]]])"
      ]
     },
     "execution_count": 6,
     "metadata": {},
     "output_type": "execute_result"
    }
   ],
   "source": [
    "# threeD array\n",
    "np.array([[[1,1,1,1], [2,2,2,2]], [[3,3,3,3], [4,4,4,4]]])"
   ]
  },
  {
   "cell_type": "code",
   "execution_count": 7,
   "id": "1889f937-66e0-49d9-9fb2-33a06b8e791d",
   "metadata": {
    "tags": []
   },
   "outputs": [],
   "source": [
    "numpy_arr = np.array([[[1,1,1,1], [2,2,2,2]], [[3,3,3,3], [4,4,4,4]]])"
   ]
  },
  {
   "cell_type": "code",
   "execution_count": 8,
   "id": "25a181c7-73ec-48ba-bbc0-a784dabebc7b",
   "metadata": {
    "tags": []
   },
   "outputs": [
    {
     "data": {
      "text/plain": [
       "(2, 2, 4)"
      ]
     },
     "execution_count": 8,
     "metadata": {},
     "output_type": "execute_result"
    }
   ],
   "source": [
    "# check shape\n",
    "numpy_arr.shape"
   ]
  },
  {
   "cell_type": "code",
   "execution_count": 9,
   "id": "dd98577e-0fd1-4964-a75a-8b0b2375c930",
   "metadata": {
    "tags": []
   },
   "outputs": [
    {
     "data": {
      "text/plain": [
       "3"
      ]
     },
     "execution_count": 9,
     "metadata": {},
     "output_type": "execute_result"
    }
   ],
   "source": [
    "# check dimention\n",
    "numpy_arr.ndim"
   ]
  },
  {
   "cell_type": "markdown",
   "id": "a97ab6e4-a144-4c3a-82b2-0507e385fd86",
   "metadata": {},
   "source": [
    "### Shape and axis"
   ]
  },
  {
   "cell_type": "code",
   "execution_count": 10,
   "id": "9c7e4a4b-6c5f-4ea4-86ae-a0e4d3d2c004",
   "metadata": {
    "tags": []
   },
   "outputs": [],
   "source": [
    "import numpy as np"
   ]
  },
  {
   "cell_type": "code",
   "execution_count": 12,
   "id": "54a82ae9-ac86-45ab-aab3-967faea79a65",
   "metadata": {
    "tags": []
   },
   "outputs": [],
   "source": [
    "numpy_arr = np.array([x for x in range(1,10)])"
   ]
  },
  {
   "cell_type": "code",
   "execution_count": 13,
   "id": "79c7a3f8-9260-428f-ba96-27cf930cd880",
   "metadata": {
    "tags": []
   },
   "outputs": [
    {
     "data": {
      "text/plain": [
       "array([1, 2, 3, 4, 5, 6, 7, 8, 9])"
      ]
     },
     "execution_count": 13,
     "metadata": {},
     "output_type": "execute_result"
    }
   ],
   "source": [
    "numpy_arr"
   ]
  },
  {
   "cell_type": "code",
   "execution_count": 14,
   "id": "17377af9-24fb-4f2e-8288-23d942785586",
   "metadata": {
    "tags": []
   },
   "outputs": [
    {
     "data": {
      "text/plain": [
       "array([[1, 2, 3],\n",
       "       [4, 5, 6],\n",
       "       [7, 8, 9]])"
      ]
     },
     "execution_count": 14,
     "metadata": {},
     "output_type": "execute_result"
    }
   ],
   "source": [
    "numpy_arr.reshape(3,3)"
   ]
  },
  {
   "cell_type": "code",
   "execution_count": 15,
   "id": "b4a8e0e3-a478-47df-abb8-438a70a3c786",
   "metadata": {
    "tags": []
   },
   "outputs": [],
   "source": [
    "# convert oneD array into threeD array\n",
    "numpy_arr = np.array([x for x in range(1, 13)])"
   ]
  },
  {
   "cell_type": "code",
   "execution_count": 16,
   "id": "8f692741-0596-49b9-a650-b4010c9b92aa",
   "metadata": {
    "tags": []
   },
   "outputs": [
    {
     "data": {
      "text/plain": [
       "array([ 1,  2,  3,  4,  5,  6,  7,  8,  9, 10, 11, 12])"
      ]
     },
     "execution_count": 16,
     "metadata": {},
     "output_type": "execute_result"
    }
   ],
   "source": [
    "numpy_arr"
   ]
  },
  {
   "cell_type": "code",
   "execution_count": 17,
   "id": "0d6b8534-55fb-4f26-8f4e-0ad4e4be5d21",
   "metadata": {
    "tags": []
   },
   "outputs": [
    {
     "data": {
      "text/plain": [
       "array([[[ 1,  2,  3],\n",
       "        [ 4,  5,  6]],\n",
       "\n",
       "       [[ 7,  8,  9],\n",
       "        [10, 11, 12]]])"
      ]
     },
     "execution_count": 17,
     "metadata": {},
     "output_type": "execute_result"
    }
   ],
   "source": [
    "numpy_arr.reshape(2,2,3)"
   ]
  },
  {
   "cell_type": "code",
   "execution_count": 18,
   "id": "2b682088-6252-4ec7-8f1b-cedd91b67d22",
   "metadata": {
    "tags": []
   },
   "outputs": [
    {
     "data": {
      "text/plain": [
       "array([[[ 1,  2],\n",
       "        [ 3,  4]],\n",
       "\n",
       "       [[ 5,  6],\n",
       "        [ 7,  8]],\n",
       "\n",
       "       [[ 9, 10],\n",
       "        [11, 12]]])"
      ]
     },
     "execution_count": 18,
     "metadata": {},
     "output_type": "execute_result"
    }
   ],
   "source": [
    "# we can modifiy (3,2,2)\n",
    "numpy_arr.reshape(3,2,2)"
   ]
  },
  {
   "cell_type": "code",
   "execution_count": 19,
   "id": "843e7b3b-c5ab-4bde-9b9c-c4bbec5dbcd0",
   "metadata": {
    "tags": []
   },
   "outputs": [
    {
     "data": {
      "text/plain": [
       "array([[[ 1,  2,  3],\n",
       "        [ 4,  5,  6]],\n",
       "\n",
       "       [[ 7,  8,  9],\n",
       "        [10, 11, 12]]])"
      ]
     },
     "execution_count": 19,
     "metadata": {},
     "output_type": "execute_result"
    }
   ],
   "source": [
    "numpy_arr.reshape(2,2,-1)"
   ]
  },
  {
   "cell_type": "code",
   "execution_count": 20,
   "id": "04e8ec25-4513-4e46-9de0-4c9d96fe50bc",
   "metadata": {
    "tags": []
   },
   "outputs": [],
   "source": [
    "numpy_arr = numpy_arr.reshape(3,2,2)"
   ]
  },
  {
   "cell_type": "code",
   "execution_count": 21,
   "id": "5f2ca96a-a560-44a6-ae08-fcb32759aebf",
   "metadata": {
    "tags": []
   },
   "outputs": [
    {
     "data": {
      "text/plain": [
       "array([[[ 1,  2],\n",
       "        [ 3,  4]],\n",
       "\n",
       "       [[ 5,  6],\n",
       "        [ 7,  8]],\n",
       "\n",
       "       [[ 9, 10],\n",
       "        [11, 12]]])"
      ]
     },
     "execution_count": 21,
     "metadata": {},
     "output_type": "execute_result"
    }
   ],
   "source": [
    "numpy_arr"
   ]
  },
  {
   "cell_type": "code",
   "execution_count": 22,
   "id": "ee371190-36d0-4d66-a4e3-90edf458c9a2",
   "metadata": {
    "tags": []
   },
   "outputs": [
    {
     "data": {
      "text/plain": [
       "array([ 1,  2,  3,  4,  5,  6,  7,  8,  9, 10, 11, 12])"
      ]
     },
     "execution_count": 22,
     "metadata": {},
     "output_type": "execute_result"
    }
   ],
   "source": [
    "numpy_arr.reshape(-1)"
   ]
  },
  {
   "cell_type": "code",
   "execution_count": 30,
   "id": "e972985c-ebad-4357-8a48-b261bf3e2b35",
   "metadata": {
    "tags": []
   },
   "outputs": [
    {
     "data": {
      "text/plain": [
       "array([[ 1,  2,  3,  4,  5,  6],\n",
       "       [ 7,  8,  9, 10, 11, 12]])"
      ]
     },
     "execution_count": 30,
     "metadata": {},
     "output_type": "execute_result"
    }
   ],
   "source": [
    "numpy_arr.reshape(2,-1)"
   ]
  },
  {
   "cell_type": "code",
   "execution_count": null,
   "id": "ea59931d-1e20-4243-a605-9bf8b062234e",
   "metadata": {},
   "outputs": [],
   "source": []
  }
 ],
 "metadata": {
  "kernelspec": {
   "display_name": "Python 3 (ipykernel)",
   "language": "python",
   "name": "python3"
  },
  "language_info": {
   "codemirror_mode": {
    "name": "ipython",
    "version": 3
   },
   "file_extension": ".py",
   "mimetype": "text/x-python",
   "name": "python",
   "nbconvert_exporter": "python",
   "pygments_lexer": "ipython3",
   "version": "3.11.5"
  }
 },
 "nbformat": 4,
 "nbformat_minor": 5
}
